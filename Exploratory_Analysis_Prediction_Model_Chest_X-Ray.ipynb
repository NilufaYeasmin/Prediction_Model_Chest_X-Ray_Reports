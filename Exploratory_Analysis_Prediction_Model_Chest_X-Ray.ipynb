{
 "cells": [
  {
   "cell_type": "markdown",
   "metadata": {},
   "source": [
    "# Exploratory Data Analysis"
   ]
  },
  {
   "cell_type": "code",
   "execution_count": 50,
   "metadata": {},
   "outputs": [],
   "source": [
    "import warnings\n",
    "warnings.filterwarnings('ignore')\n",
    "%reload_ext autoreload\n",
    "%autoreload 2\n",
    "%matplotlib inline\n",
    "\n",
    "from fastai import *\n",
    "from fastai.vision import *\n",
    "from torchvision.models import *\n",
    "import yaml\n",
    "import pandas as pd\n",
    "import datetime\n",
    "import wget\n",
    "\n",
    "from sklearn.metrics import roc_auc_score"
   ]
  },
  {
   "cell_type": "code",
   "execution_count": 53,
   "metadata": {},
   "outputs": [],
   "source": [
    "from fastai import *\n",
    "from fastai.vision import *"
   ]
  },
  {
   "cell_type": "code",
   "execution_count": null,
   "metadata": {},
   "outputs": [],
   "source": [
    "path = download_data('http://download.cs.stanford.edu//deep//CheXpert-v1.0-small.zip')"
   ]
  },
  {
   "cell_type": "markdown",
   "metadata": {},
   "source": [
    "# Data Acquisition & Data Source\n",
    "\n",
    "### Data for this project is acquired from Stanford Machine Learning Group. Stanford ML group collected chest radiograph data from 2002 to 2017, in both patient and outpatient centers along with reports"
   ]
  },
  {
   "cell_type": "code",
   "execution_count": 54,
   "metadata": {},
   "outputs": [
    {
     "data": {
      "text/html": [
       "<div>\n",
       "<style scoped>\n",
       "    .dataframe tbody tr th:only-of-type {\n",
       "        vertical-align: middle;\n",
       "    }\n",
       "\n",
       "    .dataframe tbody tr th {\n",
       "        vertical-align: top;\n",
       "    }\n",
       "\n",
       "    .dataframe thead th {\n",
       "        text-align: right;\n",
       "    }\n",
       "</style>\n",
       "<table border=\"1\" class=\"dataframe\">\n",
       "  <thead>\n",
       "    <tr style=\"text-align: right;\">\n",
       "      <th></th>\n",
       "      <th>Path</th>\n",
       "      <th>Sex</th>\n",
       "      <th>Age</th>\n",
       "      <th>Frontal/Lateral</th>\n",
       "      <th>AP/PA</th>\n",
       "      <th>No Finding</th>\n",
       "      <th>Enlarged Cardiomediastinum</th>\n",
       "      <th>Cardiomegaly</th>\n",
       "      <th>Lung Opacity</th>\n",
       "      <th>Lung Lesion</th>\n",
       "      <th>Edema</th>\n",
       "      <th>Consolidation</th>\n",
       "      <th>Pneumonia</th>\n",
       "      <th>Atelectasis</th>\n",
       "      <th>Pneumothorax</th>\n",
       "      <th>Pleural Effusion</th>\n",
       "      <th>Pleural Other</th>\n",
       "      <th>Fracture</th>\n",
       "      <th>Support Devices</th>\n",
       "    </tr>\n",
       "  </thead>\n",
       "  <tbody>\n",
       "    <tr>\n",
       "      <th>0</th>\n",
       "      <td>CheXpert-v1.0-small\\train\\patient00001\\study1\\...</td>\n",
       "      <td>Female</td>\n",
       "      <td>68</td>\n",
       "      <td>Frontal</td>\n",
       "      <td>AP</td>\n",
       "      <td>1.0</td>\n",
       "      <td>NaN</td>\n",
       "      <td>NaN</td>\n",
       "      <td>NaN</td>\n",
       "      <td>NaN</td>\n",
       "      <td>NaN</td>\n",
       "      <td>NaN</td>\n",
       "      <td>NaN</td>\n",
       "      <td>NaN</td>\n",
       "      <td>0.0</td>\n",
       "      <td>NaN</td>\n",
       "      <td>NaN</td>\n",
       "      <td>NaN</td>\n",
       "      <td>1.0</td>\n",
       "    </tr>\n",
       "    <tr>\n",
       "      <th>1</th>\n",
       "      <td>CheXpert-v1.0-small\\train\\patient00002\\study2\\...</td>\n",
       "      <td>Female</td>\n",
       "      <td>87</td>\n",
       "      <td>Frontal</td>\n",
       "      <td>AP</td>\n",
       "      <td>NaN</td>\n",
       "      <td>NaN</td>\n",
       "      <td>-1.0</td>\n",
       "      <td>1.0</td>\n",
       "      <td>NaN</td>\n",
       "      <td>-1.0</td>\n",
       "      <td>-1.0</td>\n",
       "      <td>NaN</td>\n",
       "      <td>-1.0</td>\n",
       "      <td>NaN</td>\n",
       "      <td>-1.0</td>\n",
       "      <td>NaN</td>\n",
       "      <td>1.0</td>\n",
       "      <td>NaN</td>\n",
       "    </tr>\n",
       "    <tr>\n",
       "      <th>2</th>\n",
       "      <td>CheXpert-v1.0-small\\train\\patient00002\\study1\\...</td>\n",
       "      <td>Female</td>\n",
       "      <td>83</td>\n",
       "      <td>Frontal</td>\n",
       "      <td>AP</td>\n",
       "      <td>NaN</td>\n",
       "      <td>NaN</td>\n",
       "      <td>NaN</td>\n",
       "      <td>1.0</td>\n",
       "      <td>NaN</td>\n",
       "      <td>NaN</td>\n",
       "      <td>-1.0</td>\n",
       "      <td>NaN</td>\n",
       "      <td>NaN</td>\n",
       "      <td>NaN</td>\n",
       "      <td>NaN</td>\n",
       "      <td>NaN</td>\n",
       "      <td>1.0</td>\n",
       "      <td>NaN</td>\n",
       "    </tr>\n",
       "    <tr>\n",
       "      <th>3</th>\n",
       "      <td>CheXpert-v1.0-small\\train\\patient00002\\study1\\...</td>\n",
       "      <td>Female</td>\n",
       "      <td>83</td>\n",
       "      <td>Lateral</td>\n",
       "      <td>NaN</td>\n",
       "      <td>NaN</td>\n",
       "      <td>NaN</td>\n",
       "      <td>NaN</td>\n",
       "      <td>1.0</td>\n",
       "      <td>NaN</td>\n",
       "      <td>NaN</td>\n",
       "      <td>-1.0</td>\n",
       "      <td>NaN</td>\n",
       "      <td>NaN</td>\n",
       "      <td>NaN</td>\n",
       "      <td>NaN</td>\n",
       "      <td>NaN</td>\n",
       "      <td>1.0</td>\n",
       "      <td>NaN</td>\n",
       "    </tr>\n",
       "    <tr>\n",
       "      <th>4</th>\n",
       "      <td>CheXpert-v1.0-small\\train\\patient00003\\study1\\...</td>\n",
       "      <td>Male</td>\n",
       "      <td>41</td>\n",
       "      <td>Frontal</td>\n",
       "      <td>AP</td>\n",
       "      <td>NaN</td>\n",
       "      <td>NaN</td>\n",
       "      <td>NaN</td>\n",
       "      <td>NaN</td>\n",
       "      <td>NaN</td>\n",
       "      <td>1.0</td>\n",
       "      <td>NaN</td>\n",
       "      <td>NaN</td>\n",
       "      <td>NaN</td>\n",
       "      <td>0.0</td>\n",
       "      <td>NaN</td>\n",
       "      <td>NaN</td>\n",
       "      <td>NaN</td>\n",
       "      <td>NaN</td>\n",
       "    </tr>\n",
       "  </tbody>\n",
       "</table>\n",
       "</div>"
      ],
      "text/plain": [
       "                                                Path     Sex  Age  \\\n",
       "0  CheXpert-v1.0-small\\train\\patient00001\\study1\\...  Female   68   \n",
       "1  CheXpert-v1.0-small\\train\\patient00002\\study2\\...  Female   87   \n",
       "2  CheXpert-v1.0-small\\train\\patient00002\\study1\\...  Female   83   \n",
       "3  CheXpert-v1.0-small\\train\\patient00002\\study1\\...  Female   83   \n",
       "4  CheXpert-v1.0-small\\train\\patient00003\\study1\\...    Male   41   \n",
       "\n",
       "  Frontal/Lateral AP/PA  No Finding  Enlarged Cardiomediastinum  Cardiomegaly  \\\n",
       "0         Frontal    AP         1.0                         NaN           NaN   \n",
       "1         Frontal    AP         NaN                         NaN          -1.0   \n",
       "2         Frontal    AP         NaN                         NaN           NaN   \n",
       "3         Lateral   NaN         NaN                         NaN           NaN   \n",
       "4         Frontal    AP         NaN                         NaN           NaN   \n",
       "\n",
       "   Lung Opacity  Lung Lesion  Edema  Consolidation  Pneumonia  Atelectasis  \\\n",
       "0           NaN          NaN    NaN            NaN        NaN          NaN   \n",
       "1           1.0          NaN   -1.0           -1.0        NaN         -1.0   \n",
       "2           1.0          NaN    NaN           -1.0        NaN          NaN   \n",
       "3           1.0          NaN    NaN           -1.0        NaN          NaN   \n",
       "4           NaN          NaN    1.0            NaN        NaN          NaN   \n",
       "\n",
       "   Pneumothorax  Pleural Effusion  Pleural Other  Fracture  Support Devices  \n",
       "0           0.0               NaN            NaN       NaN              1.0  \n",
       "1           NaN              -1.0            NaN       1.0              NaN  \n",
       "2           NaN               NaN            NaN       1.0              NaN  \n",
       "3           NaN               NaN            NaN       1.0              NaN  \n",
       "4           0.0               NaN            NaN       NaN              NaN  "
      ]
     },
     "execution_count": 54,
     "metadata": {},
     "output_type": "execute_result"
    }
   ],
   "source": [
    "train_df = pd.read_csv('F:/MRP/CheXpert-v1.0-small/CheXpert-v1.0-small/train.csv')\n",
    "train_df.head()"
   ]
  },
  {
   "cell_type": "markdown",
   "metadata": {},
   "source": [
    "# Data comprises of 223414 row and 19 columns or attributes"
   ]
  },
  {
   "cell_type": "code",
   "execution_count": 55,
   "metadata": {},
   "outputs": [
    {
     "data": {
      "text/plain": [
       "(223414, 19)"
      ]
     },
     "execution_count": 55,
     "metadata": {},
     "output_type": "execute_result"
    }
   ],
   "source": [
    "full_train_df.shape"
   ]
  },
  {
   "cell_type": "code",
   "execution_count": 56,
   "metadata": {
    "scrolled": true
   },
   "outputs": [
    {
     "name": "stdout",
     "output_type": "stream",
     "text": [
      "<class 'pandas.core.frame.DataFrame'>\n",
      "RangeIndex: 223414 entries, 0 to 223413\n",
      "Data columns (total 19 columns):\n",
      "Path                          223414 non-null object\n",
      "Sex                           223414 non-null object\n",
      "Age                           223414 non-null int64\n",
      "Frontal/Lateral               223414 non-null object\n",
      "AP/PA                         191027 non-null object\n",
      "No Finding                    22381 non-null float64\n",
      "Enlarged Cardiomediastinum    44839 non-null float64\n",
      "Cardiomegaly                  46203 non-null float64\n",
      "Lung Opacity                  117778 non-null float64\n",
      "Lung Lesion                   11944 non-null float64\n",
      "Edema                         85956 non-null float64\n",
      "Consolidation                 70622 non-null float64\n",
      "Pneumonia                     27608 non-null float64\n",
      "Atelectasis                   68443 non-null float64\n",
      "Pneumothorax                  78934 non-null float64\n",
      "Pleural Effusion              133211 non-null float64\n",
      "Pleural Other                 6492 non-null float64\n",
      "Fracture                      12194 non-null float64\n",
      "Support Devices               123217 non-null float64\n",
      "dtypes: float64(14), int64(1), object(4)\n",
      "memory usage: 32.4+ MB\n"
     ]
    }
   ],
   "source": [
    "full_train_df.info()"
   ]
  },
  {
   "cell_type": "code",
   "execution_count": 57,
   "metadata": {},
   "outputs": [
    {
     "data": {
      "text/html": [
       "<div>\n",
       "<style scoped>\n",
       "    .dataframe tbody tr th:only-of-type {\n",
       "        vertical-align: middle;\n",
       "    }\n",
       "\n",
       "    .dataframe tbody tr th {\n",
       "        vertical-align: top;\n",
       "    }\n",
       "\n",
       "    .dataframe thead th {\n",
       "        text-align: right;\n",
       "    }\n",
       "</style>\n",
       "<table border=\"1\" class=\"dataframe\">\n",
       "  <thead>\n",
       "    <tr style=\"text-align: right;\">\n",
       "      <th></th>\n",
       "      <th>Age</th>\n",
       "      <th>No Finding</th>\n",
       "      <th>Enlarged Cardiomediastinum</th>\n",
       "      <th>Cardiomegaly</th>\n",
       "      <th>Lung Opacity</th>\n",
       "      <th>Lung Lesion</th>\n",
       "      <th>Edema</th>\n",
       "      <th>Consolidation</th>\n",
       "      <th>Pneumonia</th>\n",
       "      <th>Atelectasis</th>\n",
       "      <th>Pneumothorax</th>\n",
       "      <th>Pleural Effusion</th>\n",
       "      <th>Pleural Other</th>\n",
       "      <th>Fracture</th>\n",
       "      <th>Support Devices</th>\n",
       "    </tr>\n",
       "  </thead>\n",
       "  <tbody>\n",
       "    <tr>\n",
       "      <th>count</th>\n",
       "      <td>223414.000000</td>\n",
       "      <td>22381.0</td>\n",
       "      <td>44839.000000</td>\n",
       "      <td>46203.000000</td>\n",
       "      <td>117778.000000</td>\n",
       "      <td>11944.000000</td>\n",
       "      <td>85956.000000</td>\n",
       "      <td>70622.000000</td>\n",
       "      <td>27608.000000</td>\n",
       "      <td>68443.000000</td>\n",
       "      <td>78934.000000</td>\n",
       "      <td>133211.000000</td>\n",
       "      <td>6492.000000</td>\n",
       "      <td>12194.000000</td>\n",
       "      <td>123217.000000</td>\n",
       "    </tr>\n",
       "    <tr>\n",
       "      <th>mean</th>\n",
       "      <td>60.430653</td>\n",
       "      <td>1.0</td>\n",
       "      <td>-0.035795</td>\n",
       "      <td>0.409346</td>\n",
       "      <td>0.848911</td>\n",
       "      <td>0.644508</td>\n",
       "      <td>0.456769</td>\n",
       "      <td>-0.183498</td>\n",
       "      <td>-0.461134</td>\n",
       "      <td>-0.005304</td>\n",
       "      <td>0.206540</td>\n",
       "      <td>0.559706</td>\n",
       "      <td>0.134011</td>\n",
       "      <td>0.688699</td>\n",
       "      <td>0.932680</td>\n",
       "    </tr>\n",
       "    <tr>\n",
       "      <th>std</th>\n",
       "      <td>17.820925</td>\n",
       "      <td>0.0</td>\n",
       "      <td>0.718442</td>\n",
       "      <td>0.769323</td>\n",
       "      <td>0.472571</td>\n",
       "      <td>0.691607</td>\n",
       "      <td>0.741785</td>\n",
       "      <td>0.753980</td>\n",
       "      <td>0.828249</td>\n",
       "      <td>0.990244</td>\n",
       "      <td>0.493529</td>\n",
       "      <td>0.648859</td>\n",
       "      <td>0.966183</td>\n",
       "      <td>0.565435</td>\n",
       "      <td>0.283377</td>\n",
       "    </tr>\n",
       "    <tr>\n",
       "      <th>min</th>\n",
       "      <td>0.000000</td>\n",
       "      <td>1.0</td>\n",
       "      <td>-1.000000</td>\n",
       "      <td>-1.000000</td>\n",
       "      <td>-1.000000</td>\n",
       "      <td>-1.000000</td>\n",
       "      <td>-1.000000</td>\n",
       "      <td>-1.000000</td>\n",
       "      <td>-1.000000</td>\n",
       "      <td>-1.000000</td>\n",
       "      <td>-1.000000</td>\n",
       "      <td>-1.000000</td>\n",
       "      <td>-1.000000</td>\n",
       "      <td>-1.000000</td>\n",
       "      <td>-1.000000</td>\n",
       "    </tr>\n",
       "    <tr>\n",
       "      <th>25%</th>\n",
       "      <td>49.000000</td>\n",
       "      <td>1.0</td>\n",
       "      <td>-1.000000</td>\n",
       "      <td>0.000000</td>\n",
       "      <td>1.000000</td>\n",
       "      <td>1.000000</td>\n",
       "      <td>0.000000</td>\n",
       "      <td>-1.000000</td>\n",
       "      <td>-1.000000</td>\n",
       "      <td>-1.000000</td>\n",
       "      <td>0.000000</td>\n",
       "      <td>0.000000</td>\n",
       "      <td>-1.000000</td>\n",
       "      <td>0.000000</td>\n",
       "      <td>1.000000</td>\n",
       "    </tr>\n",
       "    <tr>\n",
       "      <th>50%</th>\n",
       "      <td>62.000000</td>\n",
       "      <td>1.0</td>\n",
       "      <td>0.000000</td>\n",
       "      <td>1.000000</td>\n",
       "      <td>1.000000</td>\n",
       "      <td>1.000000</td>\n",
       "      <td>1.000000</td>\n",
       "      <td>0.000000</td>\n",
       "      <td>-1.000000</td>\n",
       "      <td>0.000000</td>\n",
       "      <td>0.000000</td>\n",
       "      <td>1.000000</td>\n",
       "      <td>1.000000</td>\n",
       "      <td>1.000000</td>\n",
       "      <td>1.000000</td>\n",
       "    </tr>\n",
       "    <tr>\n",
       "      <th>75%</th>\n",
       "      <td>74.000000</td>\n",
       "      <td>1.0</td>\n",
       "      <td>0.000000</td>\n",
       "      <td>1.000000</td>\n",
       "      <td>1.000000</td>\n",
       "      <td>1.000000</td>\n",
       "      <td>1.000000</td>\n",
       "      <td>0.000000</td>\n",
       "      <td>0.000000</td>\n",
       "      <td>1.000000</td>\n",
       "      <td>0.000000</td>\n",
       "      <td>1.000000</td>\n",
       "      <td>1.000000</td>\n",
       "      <td>1.000000</td>\n",
       "      <td>1.000000</td>\n",
       "    </tr>\n",
       "    <tr>\n",
       "      <th>max</th>\n",
       "      <td>90.000000</td>\n",
       "      <td>1.0</td>\n",
       "      <td>1.000000</td>\n",
       "      <td>1.000000</td>\n",
       "      <td>1.000000</td>\n",
       "      <td>1.000000</td>\n",
       "      <td>1.000000</td>\n",
       "      <td>1.000000</td>\n",
       "      <td>1.000000</td>\n",
       "      <td>1.000000</td>\n",
       "      <td>1.000000</td>\n",
       "      <td>1.000000</td>\n",
       "      <td>1.000000</td>\n",
       "      <td>1.000000</td>\n",
       "      <td>1.000000</td>\n",
       "    </tr>\n",
       "  </tbody>\n",
       "</table>\n",
       "</div>"
      ],
      "text/plain": [
       "                 Age  No Finding  Enlarged Cardiomediastinum  Cardiomegaly  \\\n",
       "count  223414.000000     22381.0                44839.000000  46203.000000   \n",
       "mean       60.430653         1.0                   -0.035795      0.409346   \n",
       "std        17.820925         0.0                    0.718442      0.769323   \n",
       "min         0.000000         1.0                   -1.000000     -1.000000   \n",
       "25%        49.000000         1.0                   -1.000000      0.000000   \n",
       "50%        62.000000         1.0                    0.000000      1.000000   \n",
       "75%        74.000000         1.0                    0.000000      1.000000   \n",
       "max        90.000000         1.0                    1.000000      1.000000   \n",
       "\n",
       "        Lung Opacity   Lung Lesion         Edema  Consolidation     Pneumonia  \\\n",
       "count  117778.000000  11944.000000  85956.000000   70622.000000  27608.000000   \n",
       "mean        0.848911      0.644508      0.456769      -0.183498     -0.461134   \n",
       "std         0.472571      0.691607      0.741785       0.753980      0.828249   \n",
       "min        -1.000000     -1.000000     -1.000000      -1.000000     -1.000000   \n",
       "25%         1.000000      1.000000      0.000000      -1.000000     -1.000000   \n",
       "50%         1.000000      1.000000      1.000000       0.000000     -1.000000   \n",
       "75%         1.000000      1.000000      1.000000       0.000000      0.000000   \n",
       "max         1.000000      1.000000      1.000000       1.000000      1.000000   \n",
       "\n",
       "        Atelectasis  Pneumothorax  Pleural Effusion  Pleural Other  \\\n",
       "count  68443.000000  78934.000000     133211.000000    6492.000000   \n",
       "mean      -0.005304      0.206540          0.559706       0.134011   \n",
       "std        0.990244      0.493529          0.648859       0.966183   \n",
       "min       -1.000000     -1.000000         -1.000000      -1.000000   \n",
       "25%       -1.000000      0.000000          0.000000      -1.000000   \n",
       "50%        0.000000      0.000000          1.000000       1.000000   \n",
       "75%        1.000000      0.000000          1.000000       1.000000   \n",
       "max        1.000000      1.000000          1.000000       1.000000   \n",
       "\n",
       "           Fracture  Support Devices  \n",
       "count  12194.000000    123217.000000  \n",
       "mean       0.688699         0.932680  \n",
       "std        0.565435         0.283377  \n",
       "min       -1.000000        -1.000000  \n",
       "25%        0.000000         1.000000  \n",
       "50%        1.000000         1.000000  \n",
       "75%        1.000000         1.000000  \n",
       "max        1.000000         1.000000  "
      ]
     },
     "execution_count": 57,
     "metadata": {},
     "output_type": "execute_result"
    }
   ],
   "source": [
    "train_df.describe()"
   ]
  },
  {
   "cell_type": "code",
   "execution_count": 58,
   "metadata": {},
   "outputs": [],
   "source": [
    "Chexpert_Targets_Features = ['Atelectasis', 'Cardiomegaly', 'Consolidation', 'Edema', 'Pleural Effusion']"
   ]
  },
  {
   "cell_type": "code",
   "execution_count": 59,
   "metadata": {},
   "outputs": [],
   "source": [
    "u_one_features = ['Atelectasis', 'Edema']\n",
    "u_zero_features = ['Cardiomegaly', 'Consolidation', 'Pleural Effusion']"
   ]
  },
  {
   "cell_type": "code",
   "execution_count": null,
   "metadata": {},
   "outputs": [],
   "source": []
  },
  {
   "cell_type": "markdown",
   "metadata": {},
   "source": [
    "### Add target features string"
   ]
  },
  {
   "cell_type": "code",
   "execution_count": 60,
   "metadata": {},
   "outputs": [],
   "source": [
    "def feature_string(row):\n",
    "    feature_list = []\n",
    "    for feature in u_one_features:\n",
    "        if row[feature] in [-1,1]:\n",
    "            feature_list.append(feature)\n",
    "            \n",
    "    for feature in u_zero_features:\n",
    "        if row[feature] == 1:\n",
    "            feature_list.append(feature)\n",
    "            \n",
    "    return ';'.join(feature_list)"
   ]
  },
  {
   "cell_type": "code",
   "execution_count": 65,
   "metadata": {},
   "outputs": [],
   "source": [
    "train_df['train_valid'] = False\n",
    "valid_df['train_valid'] = True\n"
   ]
  },
  {
   "cell_type": "markdown",
   "metadata": {},
   "source": [
    "### Add Patient and Study columns Dataframe"
   ]
  },
  {
   "cell_type": "code",
   "execution_count": null,
   "metadata": {},
   "outputs": [],
   "source": [
    "train_df['patient'] = train_df.Path.str.split('\\',3,True)[2]\n",
    "train_df  ['study'] = train_df.Path.str.split('\\',4,True)[3]\n",
    "\n",
    "valid_df['patient'] = valid_df.Path.str.split('\\',3,True)[2]\n",
    "valid_df  ['study'] = valid_df.Path.str.split('\\',4,True)[3]"
   ]
  },
  {
   "cell_type": "code",
   "execution_count": null,
   "metadata": {},
   "outputs": [],
   "source": [
    "full_df = pd.concat([full_train_df, full_valid_df])\n",
    "print(full_df)\n",
    "full_df.shape"
   ]
  },
  {
   "cell_type": "code",
   "execution_count": null,
   "metadata": {},
   "outputs": [],
   "source": [
    "full_df['feature_string'] = full_df.apply(feature_string,axis = 1).fillna('')\n",
    "#full_df.drop(full_df['feature_string'], axis=1, inplace=True)\n",
    "print(full_df.shape)"
   ]
  },
  {
   "cell_type": "code",
   "execution_count": 63,
   "metadata": {},
   "outputs": [
    {
     "name": "stdout",
     "output_type": "stream",
     "text": [
      "<class 'pandas.core.frame.DataFrame'>\n",
      "RangeIndex: 223414 entries, 0 to 223413\n",
      "Data columns (total 20 columns):\n",
      "Path                          223414 non-null object\n",
      "Sex                           223414 non-null object\n",
      "Age                           223414 non-null int64\n",
      "Frontal/Lateral               223414 non-null object\n",
      "AP/PA                         191027 non-null object\n",
      "No Finding                    22381 non-null float64\n",
      "Enlarged Cardiomediastinum    44839 non-null float64\n",
      "Cardiomegaly                  46203 non-null float64\n",
      "Lung Opacity                  117778 non-null float64\n",
      "Lung Lesion                   11944 non-null float64\n",
      "Edema                         85956 non-null float64\n",
      "Consolidation                 70622 non-null float64\n",
      "Pneumonia                     27608 non-null float64\n",
      "Atelectasis                   68443 non-null float64\n",
      "Pneumothorax                  78934 non-null float64\n",
      "Pleural Effusion              133211 non-null float64\n",
      "Pleural Other                 6492 non-null float64\n",
      "Fracture                      12194 non-null float64\n",
      "Support Devices               123217 non-null float64\n",
      "train_valid                   223414 non-null bool\n",
      "dtypes: bool(1), float64(14), int64(1), object(4)\n",
      "memory usage: 32.6+ MB\n"
     ]
    },
    {
     "data": {
      "text/plain": [
       "(223648, 23)"
      ]
     },
     "execution_count": 63,
     "metadata": {},
     "output_type": "execute_result"
    }
   ],
   "source": [
    "full_train_df.info()\n",
    "full_df.shape"
   ]
  },
  {
   "cell_type": "markdown",
   "metadata": {},
   "source": [
    "### Sample Data Preparation"
   ]
  },
  {
   "cell_type": "markdown",
   "metadata": {},
   "source": [
    "# Create DataBlock "
   ]
  },
  {
   "cell_type": "code",
   "execution_count": 36,
   "metadata": {},
   "outputs": [
    {
     "name": "stdout",
     "output_type": "stream",
     "text": [
      "F:\\MRP\\CheXpert-v1.0-small\n"
     ]
    }
   ],
   "source": [
    "from pathlib import Path\n",
    "#data_path= (\"F:/MRP/CheXpert-v1.0-small/CheXpert-v1.0-small\")\n",
    "data_path= Path('F:\\MRP\\CheXpert-v1.0-small')\n",
    "print(data_path)\n",
    "#fn_paths = [data_path/name for name in df['name']]; fn_paths[:2]\n",
    "def get_src(df = full_df):\n",
    "    return (ImageList\n",
    "        .from_df(df, data_path, 'Path')\n",
    "        .split_from_df('train_valid')\n",
    "        .label_from_df('feature_string',label_delim=';'))\n",
    "    #return (ImageList.from_csv(path=data_path,\n",
    "                             #csv_name='df.csv',\n",
    "                              #folder='train',\n",
    "                              #suffix='.jpg'\n",
    "                             #))                   \n",
    "                                   \n",
    "def get_data(size, src, bs=32):\n",
    "    #tfms = get_transforms(do_flip=False)\n",
    "    #data = (src.transform(tfms, size=size).databunch(bs=bs).normalize())\n",
    "    return (src.transform(get_transforms(do_flip=False)).databunch(bs=bs).normalize(imagenet_stats))\n"
   ]
  }
 ],
 "metadata": {
  "kernelspec": {
   "display_name": "Python 3",
   "language": "python",
   "name": "python3"
  },
  "language_info": {
   "codemirror_mode": {
    "name": "ipython",
    "version": 3
   },
   "file_extension": ".py",
   "mimetype": "text/x-python",
   "name": "python",
   "nbconvert_exporter": "python",
   "pygments_lexer": "ipython3",
   "version": "3.7.7"
  }
 },
 "nbformat": 4,
 "nbformat_minor": 2
}
